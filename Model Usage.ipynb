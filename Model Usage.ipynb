{
 "cells": [
  {
   "cell_type": "markdown",
   "id": "1aed4219-2bf9-4d3b-ac98-72b179c9b606",
   "metadata": {},
   "source": [
    "## Using the model"
   ]
  },
  {
   "cell_type": "code",
   "execution_count": 1,
   "id": "a544199d-8f7c-49f9-8205-682479e0ca1a",
   "metadata": {},
   "outputs": [],
   "source": [
    "import joblib\n",
    "import numpy as np\n",
    "\n",
    "# Load the pre-trained model\n",
    "loaded_model = joblib.load('Real Estate.joblib')\n"
   ]
  },
  {
   "cell_type": "code",
   "execution_count": 2,
   "id": "df269023-9aec-4236-95f5-b6e3d9e6852d",
   "metadata": {},
   "outputs": [],
   "source": [
    "# Prepare the input data as a 2D array\n",
    "input_data = np.array([[-0.43942006,  3.12628155, -1.12165014, -0.27288841, -1.42262747,\n",
    "                        -0.24219649, -1.31238772,  2.61111401, -1.0016859 , -0.5778192 ,\n",
    "                        -0.97491834,  0.41164221, -0.86091034]])\n",
    "\n",
    "# Make a prediction\n",
    "prediction = loaded_model.predict(input_data)"
   ]
  },
  {
   "cell_type": "code",
   "execution_count": 4,
   "id": "832b0dbd-37a3-4a93-b5be-042c56235700",
   "metadata": {},
   "outputs": [
    {
     "data": {
      "text/plain": [
       "array([22.355])"
      ]
     },
     "execution_count": 4,
     "metadata": {},
     "output_type": "execute_result"
    }
   ],
   "source": [
    "prediction"
   ]
  },
  {
   "cell_type": "code",
   "execution_count": null,
   "id": "6919889c-fd69-4cfa-85be-197f9fa8f590",
   "metadata": {},
   "outputs": [],
   "source": []
  }
 ],
 "metadata": {
  "kernelspec": {
   "display_name": "Python 3 (ipykernel)",
   "language": "python",
   "name": "python3"
  },
  "language_info": {
   "codemirror_mode": {
    "name": "ipython",
    "version": 3
   },
   "file_extension": ".py",
   "mimetype": "text/x-python",
   "name": "python",
   "nbconvert_exporter": "python",
   "pygments_lexer": "ipython3",
   "version": "3.12.4"
  }
 },
 "nbformat": 4,
 "nbformat_minor": 5
}
